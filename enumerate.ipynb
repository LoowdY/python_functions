{
  "nbformat": 4,
  "nbformat_minor": 0,
  "metadata": {
    "colab": {
      "name": "enumerate.ipynb",
      "provenance": [],
      "authorship_tag": "ABX9TyO0z0uAFvnJX0NhZHp0KOHx",
      "include_colab_link": true
    },
    "kernelspec": {
      "name": "python3",
      "display_name": "Python 3"
    },
    "language_info": {
      "name": "python"
    }
  },
  "cells": [
    {
      "cell_type": "markdown",
      "metadata": {
        "id": "view-in-github",
        "colab_type": "text"
      },
      "source": [
        "<a href=\"https://colab.research.google.com/github/LoowdY/python_functions/blob/main/enumerate.ipynb\" target=\"_parent\"><img src=\"https://colab.research.google.com/assets/colab-badge.svg\" alt=\"Open In Colab\"/></a>"
      ]
    },
    {
      "cell_type": "code",
      "source": [
        "list1= ['passat', 'civic', 'xr-71']"
      ],
      "metadata": {
        "id": "L-ifguyKVAvi"
      },
      "execution_count": 3,
      "outputs": []
    },
    {
      "cell_type": "markdown",
      "source": [
        "First, we define de list. After, we must identify the index of each element. So, after this preparation we can use the \"enumerate\" function, which shows the index and the value of the index."
      ],
      "metadata": {
        "id": "YXMp4n40VVww"
      }
    },
    {
      "cell_type": "code",
      "source": [
        "list(enumerate(list1))"
      ],
      "metadata": {
        "colab": {
          "base_uri": "https://localhost:8080/"
        },
        "id": "ApquJm5YVAyN",
        "outputId": "e56d3b52-bcae-4f91-986c-8d66ede41948"
      },
      "execution_count": 4,
      "outputs": [
        {
          "output_type": "execute_result",
          "data": {
            "text/plain": [
              "[(0, 'passat'), (1, 'civic'), (2, 'xr-71')]"
            ]
          },
          "metadata": {},
          "execution_count": 4
        }
      ]
    },
    {
      "cell_type": "markdown",
      "source": [
        "So, this is an example :)"
      ],
      "metadata": {
        "id": "rmQlxj_EV7eT"
      }
    }
  ]
}